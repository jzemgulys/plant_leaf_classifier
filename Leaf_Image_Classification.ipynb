{
  "cells": [
    {
      "cell_type": "markdown",
      "metadata": {
        "id": "view-in-github",
        "colab_type": "text"
      },
      "source": [
        "<a href=\"https://colab.research.google.com/github/jzemgulys/plant_leaf_model1/blob/main/Leaf_Image_Classification.ipynb\" target=\"_parent\"><img src=\"https://colab.research.google.com/assets/colab-badge.svg\" alt=\"Open In Colab\"/></a>"
      ]
    },
    {
      "cell_type": "code",
      "execution_count": null,
      "metadata": {
        "colab": {
          "base_uri": "https://localhost:8080/"
        },
        "id": "ZCsrkOmbgCXc",
        "outputId": "8c08e250-453e-4328-e23a-93db4d5a9164"
      },
      "outputs": [
        {
          "name": "stdout",
          "output_type": "stream",
          "text": [
            "Mounted at /content/drive\n"
          ]
        }
      ],
      "source": [
        "from google.colab import drive\n",
        "import os\n",
        "from keras.models import Sequential\n",
        "from keras.layers import Conv2D, MaxPooling2D, Flatten, Dense\n",
        "import pandas as pd\n",
        "import numpy as np\n",
        "from keras.preprocessing.image import ImageDataGenerator\n",
        "drive.mount('/content/drive')"
      ]
    },
    {
      "cell_type": "code",
      "execution_count": null,
      "metadata": {
        "id": "bGobwNlIg91e"
      },
      "outputs": [],
      "source": [
        "root = 'drive/MyDrive/leaf_classif'"
      ]
    },
    {
      "cell_type": "code",
      "execution_count": null,
      "metadata": {
        "id": "MJ0pJTh2jCPf"
      },
      "outputs": [],
      "source": [
        "# NOTE: you might have to \"Add shortcut to Drive\" in \"shared with you\" on google drive\n",
        "#       if it cannot find the folder in main root \"drive\" directory\n",
        "files = [file for file in os.listdir(root) if os.path.isfile(os.path.join(root, file))]\n",
        "# or however we process the files in the shared dir."
      ]
    },
    {
      "cell_type": "code",
      "execution_count": null,
      "metadata": {
        "colab": {
          "base_uri": "https://localhost:8080/"
        },
        "id": "luHI9pv-x4CX",
        "outputId": "3fc49c44-2a8c-4b12-99a5-27ded4c410ee"
      },
      "outputs": [
        {
          "name": "stdout",
          "output_type": "stream",
          "text": [
            "/content\n"
          ]
        }
      ],
      "source": [
        "!pwd"
      ]
    },
    {
      "cell_type": "code",
      "execution_count": null,
      "metadata": {
        "colab": {
          "base_uri": "https://localhost:8080/"
        },
        "id": "KopamAzgyJMO",
        "outputId": "01afd0c4-c451-4630-cf2e-225f7b1e75f2"
      },
      "outputs": [
        {
          "name": "stdout",
          "output_type": "stream",
          "text": [
            "Found 4274 validated image filenames belonging to 2 classes.\n",
            "Found 110 validated image filenames belonging to 2 classes.\n"
          ]
        }
      ],
      "source": [
        "main_dir = root  # Replace with your main directory\n",
        "\n",
        "def label_from_folder_name(folder_name):\n",
        "    if 'healthy' in folder_name:\n",
        "        return 'healthy'  # Class label for healthy images\n",
        "    elif 'diseased' in folder_name:\n",
        "        return 'diseased'  # Class label for unhealthy images\n",
        "    else:\n",
        "        return None  # No specific label found\n",
        "\n",
        "def custom_flow_from_directory(directory, target_size, batch_size):\n",
        "    filenames = []\n",
        "    labels = []\n",
        "\n",
        "    for folder in os.listdir(directory):\n",
        "        folder_path = os.path.join(directory, folder)\n",
        "        if os.path.isdir(folder_path):\n",
        "            for root, dirs, files in os.walk(folder_path):\n",
        "                for file in files:\n",
        "                    filenames.append(os.path.join(root, file))\n",
        "                    labels.append(label_from_folder_name(root))\n",
        "\n",
        "    filenames = np.array(filenames)\n",
        "    labels = np.array(labels, dtype=str)  # Ensure labels are strings\n",
        "\n",
        "    return ImageDataGenerator(rescale=1./255).flow_from_dataframe(\n",
        "        pd.DataFrame({\"filename\": filenames, \"class\": labels}),\n",
        "        x_col=\"filename\",\n",
        "        y_col=\"class\",\n",
        "        target_size=target_size,\n",
        "        batch_size=batch_size,\n",
        "        class_mode='binary'\n",
        "    )\n",
        "\n",
        "# Use the custom function to load data\n",
        "batch_size = 32\n",
        "img_height, img_width = 150, 150\n",
        "\n",
        "train_dir = os.path.join(main_dir, 'train')\n",
        "test_dir = os.path.join(main_dir, 'test')\n",
        "\n",
        "train_generator = custom_flow_from_directory(train_dir, (img_height, img_width), batch_size)\n",
        "test_generator = custom_flow_from_directory(test_dir, (img_height, img_width), batch_size)\n"
      ]
    },
    {
      "cell_type": "code",
      "execution_count": null,
      "metadata": {
        "id": "XPzqWf8Zzedc"
      },
      "outputs": [],
      "source": [
        "# Build a CNN model\n",
        "model = Sequential([\n",
        "    Conv2D(32, (3, 3), activation='relu', input_shape=(img_height, img_width, 3)),\n",
        "    MaxPooling2D((2, 2)),\n",
        "\n",
        "    Conv2D(64, (3, 3), activation='relu'),\n",
        "    MaxPooling2D((2, 2)),\n",
        "\n",
        "    Conv2D(128, (3, 3), activation='relu'),\n",
        "    MaxPooling2D((2, 2)),\n",
        "\n",
        "    Flatten(),\n",
        "    Dense(128, activation='relu'),\n",
        "    Dense(1, activation='sigmoid')\n",
        "])\n",
        "\n",
        "model.compile(optimizer='adam', loss='binary_crossentropy', metrics=['accuracy'])"
      ]
    },
    {
      "cell_type": "code",
      "execution_count": null,
      "metadata": {
        "colab": {
          "background_save": true,
          "base_uri": "https://localhost:8080/"
        },
        "id": "hRL1GalHzlXx",
        "outputId": "82ace983-e606-4ca6-b7a7-8f6c66dfb2ba"
      },
      "outputs": [
        {
          "name": "stdout",
          "output_type": "stream",
          "text": [
            "Epoch 1/10\n",
            "134/134 [==============================] - 1527s 11s/step - loss: 0.6336 - accuracy: 0.6273 - val_loss: 0.6633 - val_accuracy: 0.6455\n",
            "Epoch 2/10\n",
            "134/134 [==============================] - 565s 4s/step - loss: 0.5024 - accuracy: 0.7527 - val_loss: 0.6261 - val_accuracy: 0.7000\n",
            "Epoch 3/10\n",
            "134/134 [==============================] - 549s 4s/step - loss: 0.3752 - accuracy: 0.8346 - val_loss: 0.5098 - val_accuracy: 0.7273\n",
            "Epoch 4/10\n",
            "134/134 [==============================] - 543s 4s/step - loss: 0.2674 - accuracy: 0.8896 - val_loss: 0.4090 - val_accuracy: 0.7818\n",
            "Epoch 5/10\n",
            "134/134 [==============================] - 638s 5s/step - loss: 0.2181 - accuracy: 0.9160 - val_loss: 0.4708 - val_accuracy: 0.7909\n",
            "Epoch 6/10\n",
            "134/134 [==============================] - 550s 4s/step - loss: 0.1593 - accuracy: 0.9385 - val_loss: 0.4262 - val_accuracy: 0.8000\n",
            "Epoch 7/10\n",
            "134/134 [==============================] - 609s 5s/step - loss: 0.1274 - accuracy: 0.9518 - val_loss: 0.3859 - val_accuracy: 0.8273\n",
            "Epoch 8/10\n",
            "134/134 [==============================] - 601s 4s/step - loss: 0.0961 - accuracy: 0.9672 - val_loss: 0.4916 - val_accuracy: 0.8545\n",
            "Epoch 9/10\n",
            "134/134 [==============================] - 617s 5s/step - loss: 0.0627 - accuracy: 0.9773 - val_loss: 0.4076 - val_accuracy: 0.8455\n",
            "Epoch 10/10\n",
            "134/134 [==============================] - 633s 5s/step - loss: 0.0599 - accuracy: 0.9785 - val_loss: 0.5420 - val_accuracy: 0.8364\n"
          ]
        }
      ],
      "source": [
        "# Calculate steps_per_epoch and validation_steps\n",
        "steps_per_epoch_train = train_generator.samples // batch_size\n",
        "steps_per_epoch_test = test_generator.samples // batch_size\n",
        "epochs = 10\n",
        "# Add 1 extra step if there are remaining samples not included in batches\n",
        "if train_generator.samples % batch_size != 0:\n",
        "    steps_per_epoch_train += 1\n",
        "if test_generator.samples % batch_size != 0:\n",
        "    steps_per_epoch_test += 1\n",
        "\n",
        "# Train the model\n",
        "history = model.fit(\n",
        "    train_generator,\n",
        "    steps_per_epoch=steps_per_epoch_train,\n",
        "    epochs=epochs,\n",
        "    validation_data=test_generator,\n",
        "    validation_steps=steps_per_epoch_test\n",
        ")\n"
      ]
    },
    {
      "cell_type": "code",
      "execution_count": null,
      "metadata": {
        "id": "O1Y18OzN7PJ6"
      },
      "outputs": [],
      "source": []
    }
  ],
  "metadata": {
    "accelerator": "GPU",
    "colab": {
      "provenance": [],
      "include_colab_link": true
    },
    "kernelspec": {
      "display_name": "Python 3",
      "name": "python3"
    },
    "language_info": {
      "name": "python"
    }
  },
  "nbformat": 4,
  "nbformat_minor": 0
}